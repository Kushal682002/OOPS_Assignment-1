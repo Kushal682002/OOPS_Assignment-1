{
 "cells": [
  {
   "cell_type": "markdown",
   "id": "360c4f66",
   "metadata": {},
   "source": [
    "# Ans 1"
   ]
  },
  {
   "cell_type": "markdown",
   "id": "2472eeb2",
   "metadata": {},
   "source": [
    "In OOP , class defines the properties(attributes) and actions(methods) that objects of that class can possess.\n",
    "An object, on the other hand, is an instance of class. It represents a specific entity or concept based on the class definition.\n",
    "Objects have their own unique state(attribute values) and behaviour(methods) defined by the class from which they are created."
   ]
  },
  {
   "cell_type": "code",
   "execution_count": 4,
   "id": "ef01caac",
   "metadata": {},
   "outputs": [],
   "source": [
    "class student:\n",
    "    def __init__(self,name,id,marks):\n",
    "        self.name= name;\n",
    "        self.id = id;\n",
    "        self.marks = marks;\n",
    "    \n",
    "    def display_details(self):\n",
    "        print(f\"{self.name} with id {self.id} has scored {self.marks} marks\");\n",
    "        "
   ]
  },
  {
   "cell_type": "code",
   "execution_count": 5,
   "id": "14ef7900",
   "metadata": {},
   "outputs": [],
   "source": [
    "kushal = student(\"Kushal Agrawal\",21102054,100);"
   ]
  },
  {
   "cell_type": "code",
   "execution_count": 6,
   "id": "606d8d0f",
   "metadata": {},
   "outputs": [
    {
     "name": "stdout",
     "output_type": "stream",
     "text": [
      "Kushal Agrawal with id 21102054 has scored 100 marks\n"
     ]
    }
   ],
   "source": [
    "kushal.display_details();"
   ]
  },
  {
   "cell_type": "markdown",
   "id": "be552345",
   "metadata": {},
   "source": [
    "# Ans 2"
   ]
  },
  {
   "cell_type": "markdown",
   "id": "ccd8e44c",
   "metadata": {},
   "source": [
    "1. Encapsulation\n",
    "2. Polymorphism\n",
    "3. Inheritance\n",
    "4. Abstraction"
   ]
  },
  {
   "cell_type": "markdown",
   "id": "c922539a",
   "metadata": {},
   "source": [
    "# Ans 3"
   ]
  },
  {
   "cell_type": "markdown",
   "id": "b211400b",
   "metadata": {},
   "source": [
    "The '__init__()' function is a special method in Python classes that is automatically called when an object is created from a class.It stands for \"initialize\" and is used to initialize the attributes of an object with initial values."
   ]
  },
  {
   "cell_type": "code",
   "execution_count": 7,
   "id": "49cb9883",
   "metadata": {},
   "outputs": [],
   "source": [
    "class student:\n",
    "    def __init__(self,name,id,marks):\n",
    "        self.name= name;\n",
    "        self.id = id;\n",
    "        self.marks = marks;\n",
    "    \n",
    "    def display_details(self):\n",
    "        print(f\"{self.name} with id {self.id} has scored {self.marks} marks\");\n",
    "        "
   ]
  },
  {
   "cell_type": "code",
   "execution_count": 8,
   "id": "afa74920",
   "metadata": {},
   "outputs": [],
   "source": [
    "kushal = student(\"Kushal Agrawal\",21102054,100);"
   ]
  },
  {
   "cell_type": "code",
   "execution_count": 9,
   "id": "4f32024e",
   "metadata": {},
   "outputs": [
    {
     "name": "stdout",
     "output_type": "stream",
     "text": [
      "Kushal Agrawal with id 21102054 has scored 100 marks\n"
     ]
    }
   ],
   "source": [
    "kushal.display_details();"
   ]
  },
  {
   "cell_type": "markdown",
   "id": "45d07eee",
   "metadata": {},
   "source": [
    "# Ans 4"
   ]
  },
  {
   "cell_type": "markdown",
   "id": "617dcf16",
   "metadata": {},
   "source": [
    "The 'self' Parameter is the first parameter in most method definitions within a class. It represents the instance of the class and allows the methods to access and modify the object's attributes and call other methods associated with that object. When a method is invoked on an object, the 'self' parameter is automatically passsed in as a reference to the object itself."
   ]
  },
  {
   "cell_type": "markdown",
   "id": "cbe61503",
   "metadata": {},
   "source": [
    "# Ans 5"
   ]
  },
  {
   "cell_type": "markdown",
   "id": "10d8bcb4",
   "metadata": {},
   "source": [
    "Inheritance is a fundamental concept in OOP that allows a class to inherit properties and behaviours from another class. The class that inherits is called subclass or derived classs, and the class being inherited from is called a superclass or base class.\n",
    "Inheritance promotes code reusability and supports the concept of hierarchical relationships between classes."
   ]
  },
  {
   "cell_type": "markdown",
   "id": "3ca05e43",
   "metadata": {},
   "source": [
    "1. Single Inheritance :- A class inherits from a single superclass.If forms a parent-child relationship between classes."
   ]
  },
  {
   "cell_type": "code",
   "execution_count": 15,
   "id": "4cbd8a36",
   "metadata": {},
   "outputs": [],
   "source": [
    "class Animal:\n",
    "    def which(self):\n",
    "        print(\"This is a animal\");\n",
    "\n",
    "class Dog(Animal):\n",
    "    def hello(self):\n",
    "        pass\n",
    "\n"
   ]
  },
  {
   "cell_type": "code",
   "execution_count": 16,
   "id": "e6b8c97b",
   "metadata": {},
   "outputs": [],
   "source": [
    "Sheru = Dog()"
   ]
  },
  {
   "cell_type": "code",
   "execution_count": 19,
   "id": "ed45ee52",
   "metadata": {},
   "outputs": [
    {
     "name": "stdout",
     "output_type": "stream",
     "text": [
      "This is a animal\n"
     ]
    }
   ],
   "source": [
    "Sheru.which()"
   ]
  },
  {
   "cell_type": "markdown",
   "id": "594f3cd6",
   "metadata": {},
   "source": [
    "2. Multiple Inheritance :- It occurs when a class inherits from multiple superclasses. It allows a subclass to inherit attributes and behaviours from multiple parent classes."
   ]
  },
  {
   "cell_type": "code",
   "execution_count": 21,
   "id": "00a714db",
   "metadata": {},
   "outputs": [],
   "source": [
    "class Animal:\n",
    "    def type(self):\n",
    "        print(\"A animal\");\n",
    "\n",
    "class CatFamily:\n",
    "    def cat(self):\n",
    "        print(\"Member of cat family\");\n",
    "\n",
    "class Dog(Animal,CatFamily):\n",
    "    def hello(self):\n",
    "        pass;\n",
    "    "
   ]
  },
  {
   "cell_type": "code",
   "execution_count": 22,
   "id": "c50536f0",
   "metadata": {},
   "outputs": [],
   "source": [
    "sheru = Dog();"
   ]
  },
  {
   "cell_type": "code",
   "execution_count": 23,
   "id": "68454997",
   "metadata": {},
   "outputs": [
    {
     "name": "stdout",
     "output_type": "stream",
     "text": [
      "A animal\n",
      "Member of cat family\n"
     ]
    }
   ],
   "source": [
    "sheru.type()\n",
    "sheru.cat()"
   ]
  },
  {
   "cell_type": "markdown",
   "id": "b4a3a48c",
   "metadata": {},
   "source": [
    "3. Multilevel Inheritance :- Multilvel Inheritance involves creating a chain of inheritance where a subclass becomes the superclass for another subclass. If forms a hierarchical relationship between classes."
   ]
  },
  {
   "cell_type": "code",
   "execution_count": 29,
   "id": "d641e435",
   "metadata": {},
   "outputs": [],
   "source": [
    "class Animal:\n",
    "    def myself2(self):\n",
    "        print(\"Myself animal\");\n",
    "\n",
    "class Dog(Animal):\n",
    "    def myself1(self):\n",
    "        print(\"Myself Dog\");\n",
    "        \n",
    "class Bulldog(Dog):\n",
    "    def myself(self):\n",
    "        print(\"Myself BullDog\");"
   ]
  },
  {
   "cell_type": "code",
   "execution_count": 30,
   "id": "fcdf7383",
   "metadata": {},
   "outputs": [],
   "source": [
    "sheru = Bulldog();"
   ]
  },
  {
   "cell_type": "code",
   "execution_count": 31,
   "id": "e8775e61",
   "metadata": {},
   "outputs": [
    {
     "name": "stdout",
     "output_type": "stream",
     "text": [
      "Myself BullDog\n"
     ]
    }
   ],
   "source": [
    "sheru.myself()"
   ]
  },
  {
   "cell_type": "code",
   "execution_count": 32,
   "id": "3a75567f",
   "metadata": {},
   "outputs": [
    {
     "name": "stdout",
     "output_type": "stream",
     "text": [
      "Myself Dog\n"
     ]
    }
   ],
   "source": [
    "sheru.myself1()"
   ]
  },
  {
   "cell_type": "code",
   "execution_count": 33,
   "id": "05d5b7be",
   "metadata": {},
   "outputs": [
    {
     "name": "stdout",
     "output_type": "stream",
     "text": [
      "Myself animal\n"
     ]
    }
   ],
   "source": [
    "sheru.myself2()"
   ]
  },
  {
   "cell_type": "markdown",
   "id": "a77fcc8b",
   "metadata": {},
   "source": [
    "4. Hierarchical Inheritance :- It occurs when multiple subclasses inherit from a single superclass.It allows for the creation of a branching hierarchy of classes."
   ]
  },
  {
   "cell_type": "code",
   "execution_count": 36,
   "id": "d70e2973",
   "metadata": {},
   "outputs": [],
   "source": [
    "class Animal:\n",
    "    def type(self):\n",
    "        print(\"Animal\");\n",
    "\n",
    "class Dog(Animal):\n",
    "    def hello(self):\n",
    "        pass;\n",
    "\n",
    "class Monkey(Animal):\n",
    "    def hello2(self):\n",
    "        pass;"
   ]
  },
  {
   "cell_type": "code",
   "execution_count": 37,
   "id": "6a5382e4",
   "metadata": {},
   "outputs": [],
   "source": [
    "Sheru = Dog();"
   ]
  },
  {
   "cell_type": "code",
   "execution_count": 39,
   "id": "f7dbde22",
   "metadata": {},
   "outputs": [
    {
     "name": "stdout",
     "output_type": "stream",
     "text": [
      "Animal\n"
     ]
    }
   ],
   "source": [
    "Sheru.type()"
   ]
  },
  {
   "cell_type": "code",
   "execution_count": 41,
   "id": "cb41d321",
   "metadata": {},
   "outputs": [],
   "source": [
    "bandar = Monkey()"
   ]
  },
  {
   "cell_type": "code",
   "execution_count": 42,
   "id": "04c82577",
   "metadata": {},
   "outputs": [
    {
     "name": "stdout",
     "output_type": "stream",
     "text": [
      "Animal\n"
     ]
    }
   ],
   "source": [
    "bandar.type()"
   ]
  },
  {
   "cell_type": "code",
   "execution_count": null,
   "id": "97c22be3",
   "metadata": {},
   "outputs": [],
   "source": []
  }
 ],
 "metadata": {
  "kernelspec": {
   "display_name": "Python 3 (ipykernel)",
   "language": "python",
   "name": "python3"
  },
  "language_info": {
   "codemirror_mode": {
    "name": "ipython",
    "version": 3
   },
   "file_extension": ".py",
   "mimetype": "text/x-python",
   "name": "python",
   "nbconvert_exporter": "python",
   "pygments_lexer": "ipython3",
   "version": "3.11.2"
  }
 },
 "nbformat": 4,
 "nbformat_minor": 5
}
